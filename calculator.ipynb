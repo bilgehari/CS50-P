{
  "nbformat": 4,
  "nbformat_minor": 0,
  "metadata": {
    "colab": {
      "provenance": [],
      "authorship_tag": "ABX9TyP9AcgJ72z0HhCuqBhFy6Hk",
      "include_colab_link": true
    },
    "kernelspec": {
      "name": "python3",
      "display_name": "Python 3"
    },
    "language_info": {
      "name": "python"
    }
  },
  "cells": [
    {
      "cell_type": "markdown",
      "metadata": {
        "id": "view-in-github",
        "colab_type": "text"
      },
      "source": [
        "<a href=\"https://colab.research.google.com/github/bilgehari/CS50-P/blob/main/calculator.ipynb\" target=\"_parent\"><img src=\"https://colab.research.google.com/assets/colab-badge.svg\" alt=\"Open In Colab\"/></a>"
      ]
    },
    {
      "cell_type": "code",
      "execution_count": null,
      "metadata": {
        "id": "caugJBmpZdm_"
      },
      "outputs": [],
      "source": [
        "# x = input(\"whats x? \")\n",
        "# y = input(\"whats y? \")\n",
        "\n",
        "# z = int(x) + int(y)\n",
        "\n",
        "# print(z)\n",
        "\n",
        "# x = int(input(\"whats x? \"))\n",
        "# y = int(input(\"whats y? \"))\n",
        "\n",
        "# virgülden sonnrasını yazabilmesi için float kullanıyoruz\n",
        "\n",
        "#x = float(input(\"whats x? \"))\n",
        "#y = float(input(\"whats y? \"))\n",
        "\n",
        "#print(x + y)\n",
        "\n",
        "# eğer float sonucumuzu integera yuvarlamak istiyorsak;\n",
        "# z = round(x + y)\n",
        "# print(z)\n",
        "\n",
        "# sonucu, z'yi üçerli basamaklara virgülle ayırmak istiyorsak;\n",
        "# print(f\"{z:,}\")\n",
        "\n",
        "# sonuçta virgülden sonra kaç birim olacağını belirlemek istiyorsak;\n",
        "# z = round(x / y, 2)\n",
        "# print(z)\n",
        "\n",
        "# ya da, daha az kullanılır\n",
        "# z = x / y\n",
        "# print (f\"{:.2f}\")\n",
        "\n",
        "def main():\n",
        "    x = int(input(\"whats x? \"))\n",
        "    print(\"x squared is,\", square(x))\n",
        "\n",
        "def square(n):\n",
        "    return n * n\n",
        "    # ya da n'in 2. kuvvetini almak için\n",
        "    # return pow(n, 2)\n",
        "\n",
        "main()"
      ]
    }
  ]
}